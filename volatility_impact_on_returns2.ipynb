{
 "cells": [
  {
   "cell_type": "markdown",
   "metadata": {},
   "source": [
    "# How does volatility impact returns - part 2\n",
    "\n",
    "In part 1 of \"How does volatility impact returns?\", we looked at scenarios where the mean return was the same, but volatility (standard deviation) was different. The conclusions were that:\n",
    "* Volatility does not have an impact on *expected* returns\n",
    "* But volatility does impact the probability of reaching various financial goals\n",
    "\n",
    "However, in the real world, lower volatility often results in lower average returns:\n",
    "\n",
    "> \"When volatility increases, risk increases and returns decrease. Risk is represented by the dispersion of returns around the mean.\" (http://www.investopedia.com/articles/financial-theory/08/volatility.asp#ixzz4KG4pag92)\n",
    "\n",
    "So in this **part 2**, we'll look at whether its better to invest in higher-risk/higher average return funds, or lower-risk/lower average return funds.\n",
    "\n",
    "### So what's the relationship between mean returns and volatility?\n",
    "\n",
    "According to empirical analysis of Vanguard's mutual funds (see vanguard_fund_analysis), here is an equation to relate mean return with expected mean standard deviation:"
   ]
  },
  {
   "cell_type": "code",
   "execution_count": 2,
   "metadata": {
    "collapsed": true
   },
   "outputs": [],
   "source": [
    "def investment_mean_to_std(mean_return):\n",
    "    \"\"\" Given the monthly mean return, output the monthly standard deviation return. \"\"\"\n",
    "    slope = 3.2955407720697272\n",
    "    intercept = 2.4677939920687453\n",
    "    return slope * mean_return + intercept"
   ]
  },
  {
   "cell_type": "code",
   "execution_count": 3,
   "metadata": {
    "collapsed": false
   },
   "outputs": [
    {
     "data": {
      "text/plain": [
       "[5.214077968793518, 4.664821173448564, 4.115564378103609, 3.5663075827586543]"
      ]
     },
     "execution_count": 3,
     "metadata": {},
     "output_type": "execute_result"
    }
   ],
   "source": [
    "mutual_fund_mean_returns = [10, 8, 6, 4]\n",
    "mutual_fund_std_returns = [investment_mean_to_std(mean_return / 12) for mean_return in mutual_fund_mean_returns]\n",
    "mutual_fund_std_returns"
   ]
  },
  {
   "cell_type": "markdown",
   "metadata": {},
   "source": [
    "Okay, so now we have some good numbers to go on to build some hypothetical funds to analyze...\n",
    "\n",
    "## Hypothetical Funds\n",
    "\n",
    "* Fund 1: return mean: 10%, standard deviation: 5.214%\n",
    "* Fund 2: return mean: 8%, standard deviation: 4.665%\n",
    "* Fund 3: return mean: 6%, standard deviation: 4.116%\n",
    "* Fund 4: return mean: 4%, standard deviation: 3.566%\n",
    "\n",
    "And again, we will be contributing **$5,500 per year** to these funds, and running the simulation for **30 years**."
   ]
  },
  {
   "cell_type": "code",
   "execution_count": 4,
   "metadata": {
    "collapsed": true
   },
   "outputs": [],
   "source": [
    "import numpy as np\n",
    "import random\n",
    "import matplotlib.pyplot as plt\n",
    "%matplotlib inline\n",
    "\n",
    "# Graphing helper function\n",
    "def setup_graph(title='', x_label='', y_label='', fig_size=None):\n",
    "    fig = plt.figure()\n",
    "    if fig_size != None:\n",
    "        fig.set_size_inches(fig_size[0], fig_size[1])\n",
    "    ax = fig.add_subplot(111)\n",
    "    ax.set_title(title)\n",
    "    ax.set_xlabel(x_label)\n",
    "    ax.set_ylabel(y_label)"
   ]
  },
  {
   "cell_type": "markdown",
   "metadata": {},
   "source": [
    "### Simulation functions (developed in part 1)"
   ]
  },
  {
   "cell_type": "code",
   "execution_count": 5,
   "metadata": {
    "collapsed": true
   },
   "outputs": [],
   "source": [
    "def generate_return_rates(return_mean, return_std, years):\n",
    "    return return_mean + return_std * np.random.randn(years)\n",
    "\n",
    "def calculate_fund_returns(contribution_per_year, returns_by_year, starting_principal=0):\n",
    "    \"\"\" Calculate the fund returns for the sequence of years given.\n",
    "    \n",
    "    Parameters:\n",
    "        * contributsions_per_year - float representing dollars contributed per year\n",
    "        * returns_by_year - list of percent returns per year like [.1, -.05, ...].\n",
    "    Returns the fund value by year - a list like this:\n",
    "        [1000, 1026.25, 1223.75, 1100.75, ...]\n",
    "    \"\"\"\n",
    "    principal = starting_principal\n",
    "    value_by_year = []\n",
    "    for return_rate in returns_by_year:\n",
    "        # Add the contribution first thing each year\n",
    "        principal = principal + contribution_per_year\n",
    "        \n",
    "        # Calculate growth/loss\n",
    "        principal = principal * (1 + return_rate)\n",
    "        \n",
    "        value_by_year.append(principal)\n",
    "\n",
    "    return value_by_year"
   ]
  },
  {
   "cell_type": "markdown",
   "metadata": {},
   "source": [
    "### Fund definitions"
   ]
  },
  {
   "cell_type": "code",
   "execution_count": 15,
   "metadata": {
    "collapsed": false
   },
   "outputs": [],
   "source": [
    "def make_mutual_fund(return_mean, return_std, years, yearly_addition):\n",
    "    fund_return_rates = [percent / 100 for percent in generate_return_rates(return_mean, return_std, years)]\n",
    "    fund_value_by_year = calculate_fund_returns(yearly_addition, fund_return_rates)\n",
    "    return fund_value_by_year\n",
    "\n",
    "def get_fund1_returns(): return make_mutual_fund(10, 5.214, 30, 5500)\n",
    "def get_fund2_returns(): return make_mutual_fund(8, 4.665, 30, 5500)\n",
    "def get_fund3_returns(): return make_mutual_fund(6, 4.116, 30, 5500)\n",
    "def get_fund4_returns(): return make_mutual_fund(4, 3.566, 30, 5500)"
   ]
  },
  {
   "cell_type": "markdown",
   "metadata": {},
   "source": [
    "Just to make sure everything looks good, let's graph some example returns from fund4:"
   ]
  },
  {
   "cell_type": "code",
   "execution_count": 20,
   "metadata": {
    "collapsed": false
   },
   "outputs": [
    {
     "data": {
      "text/plain": [
       "[<matplotlib.lines.Line2D at 0x10a759780>]"
      ]
     },
     "execution_count": 20,
     "metadata": {},
     "output_type": "execute_result"
    },
    {
     "data": {
      "image/png": "[encoded data removed]",
      "text/plain": [
       "<matplotlib.figure.Figure at 0x10a54ac50>"
      ]
     },
     "metadata": {},
     "output_type": "display_data"
    }
   ],
   "source": [
    "years = range(30)\n",
    "setup_graph(title='Fund 4 returns', x_label='year', y_label='fund value in $', fig_size=(12,6))\n",
    "plt.plot(years, get_fund1_returns())"
   ]
  },
  {
   "cell_type": "markdown",
   "metadata": {},
   "source": [
    "### Let's now calculate expected returns for each fund"
   ]
  },
  {
   "cell_type": "code",
   "execution_count": 24,
   "metadata": {
    "collapsed": true
   },
   "outputs": [],
   "source": [
    "num_trials = 100000\n",
    "fund1_end_returns_per_trial = [get_fund1_returns()[-1] for i in range(num_trials)]\n",
    "fund2_end_returns_per_trial = [get_fund2_returns()[-1] for i in range(num_trials)]\n",
    "fund3_end_returns_per_trial = [get_fund3_returns()[-1] for i in range(num_trials)]\n",
    "fund4_end_returns_per_trial = [get_fund4_returns()[-1] for i in range(num_trials)]"
   ]
  },
  {
   "cell_type": "code",
   "execution_count": 26,
   "metadata": {
    "collapsed": false
   },
   "outputs": [
    {
     "name": "stdout",
     "output_type": "stream",
     "text": [
      "Fund 1 expected return: 994589.9144610558\n",
      "Fund 2 expected return: 673171.0173040157\n",
      "Fund 3 expected return: 460500.232402005\n",
      "Fund 4 expected return: 320957.04365662363\n"
     ]
    }
   ],
   "source": [
    "print('Fund 1 expected return: {}'.format(sum(fund1_end_returns_per_trial) / num_trials))\n",
    "print('Fund 2 expected return: {}'.format(sum(fund2_end_returns_per_trial) / num_trials))\n",
    "print('Fund 3 expected return: {}'.format(sum(fund3_end_returns_per_trial) / num_trials))\n",
    "print('Fund 4 expected return: {}'.format(sum(fund4_end_returns_per_trial) / num_trials))"
   ]
  },
  {
   "cell_type": "markdown",
   "metadata": {},
   "source": [
    "### What's the probability of reaching, say, $450,000?"
   ]
  },
  {
   "cell_type": "code",
   "execution_count": 28,
   "metadata": {
    "collapsed": false
   },
   "outputs": [
    {
     "name": "stdout",
     "output_type": "stream",
     "text": [
      "Fund 1 expected return: 0.99996\n",
      "Fund 2 expected return: 0.98725\n",
      "Fund 3 expected return: 0.5296\n",
      "Fund 4 expected return: 0.0034\n"
     ]
    }
   ],
   "source": [
    "print('Fund 1 expected return: {}'.format(len([i for i in fund1_end_returns_per_trial if i >= 450000]) / num_trials))\n",
    "print('Fund 2 expected return: {}'.format(len([i for i in fund2_end_returns_per_trial if i >= 450000]) / num_trials))\n",
    "print('Fund 3 expected return: {}'.format(len([i for i in fund3_end_returns_per_trial if i >= 450000]) / num_trials))\n",
    "print('Fund 4 expected return: {}'.format(len([i for i in fund4_end_returns_per_trial if i >= 450000]) / num_trials))"
   ]
  },
  {
   "cell_type": "markdown",
   "metadata": {},
   "source": [
    "Wow, so the higher-volatility/higher-return funds have a MUCH better chance of getting this modest amount."
   ]
  },
  {
   "cell_type": "markdown",
   "metadata": {},
   "source": [
    "### What's the probability of reaching, say, $670,000?"
   ]
  },
  {
   "cell_type": "code",
   "execution_count": 30,
   "metadata": {
    "collapsed": false
   },
   "outputs": [
    {
     "name": "stdout",
     "output_type": "stream",
     "text": [
      "Fund 1 expected return: 0.97013\n",
      "Fund 2 expected return: 0.47324\n",
      "Fund 3 expected return: 0.00572\n",
      "Fund 4 expected return: 0.0\n"
     ]
    }
   ],
   "source": [
    "print('Fund 1 expected return: {}'.format(len([i for i in fund1_end_returns_per_trial if i >= 670000]) / num_trials))\n",
    "print('Fund 2 expected return: {}'.format(len([i for i in fund2_end_returns_per_trial if i >= 670000]) / num_trials))\n",
    "print('Fund 3 expected return: {}'.format(len([i for i in fund3_end_returns_per_trial if i >= 670000]) / num_trials))\n",
    "print('Fund 4 expected return: {}'.format(len([i for i in fund4_end_returns_per_trial if i >= 670000]) / num_trials))"
   ]
  },
  {
   "cell_type": "markdown",
   "metadata": {},
   "source": [
    "And here again, the higher-return/higher-volatility fund has the best chance of reaching this financial goal.\n",
    "\n",
    "So with these trials, it seems like just going for higher mean return is the way to go."
   ]
  },
  {
   "cell_type": "code",
   "execution_count": null,
   "metadata": {
    "collapsed": true
   },
   "outputs": [],
   "source": []
  }
 ],
 "metadata": {
  "kernelspec": {
   "display_name": "Python 3",
   "language": "python",
   "name": "python3"
  },
  "language_info": {
   "codemirror_mode": {
    "name": "ipython",
    "version": 3
   },
   "file_extension": ".py",
   "mimetype": "text/x-python",
   "name": "python",
   "nbconvert_exporter": "python",
   "pygments_lexer": "ipython3",
   "version": "3.5.1"
  }
 },
 "nbformat": 4,
 "nbformat_minor": 0
}
