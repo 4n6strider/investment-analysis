{
 "cells": [
  {
   "cell_type": "markdown",
   "metadata": {},
   "source": [
    "# How does volatility impact returns - part 2\n",
    "\n",
    "In part 1 of \"How does volatility impact returns?\", we looked at scenarios where the mean return was the same, but volatility (standard deviation) was different. The conclusions were that:\n",
    "* Volatility does not have an impact on *expected* returns\n",
    "* But volatility does impact the probability of reaching various financial goals\n",
    "\n",
    "However, in the real world, lower volatility often results in lower average returns:\n",
    "\n",
    "> \"When volatility increases, risk increases and returns decrease. Risk is represented by the dispersion of returns around the mean.\" (http://www.investopedia.com/articles/financial-theory/08/volatility.asp#ixzz4KG4pag92)\n",
    "\n",
    "So in this **part 2**, we'll look at whether its better to invest in higher-risk/higher average return funds, or lower-risk/lower average return funds.\n",
    "\n",
    "### So what's the relationship between mean returns and volatility?\n",
    "\n",
    "According to empirical analysis of Vanguard's mutual funds (see vanguard_fund_analysis), here is an equation to relate mean return with expected mean standard deviation:"
   ]
  },
  {
   "cell_type": "code",
   "execution_count": 75,
   "metadata": {
    "collapsed": true
   },
   "outputs": [],
   "source": [
    "def investment_mean_to_std(mean_return):\n",
    "    \"\"\" Given the mean return, output the standard deviation return. \"\"\"\n",
    "    slope = 3.4856115546738726\n",
    "    intercept = 2.2961232860559\n",
    "    return slope * mean_return + intercept"
   ]
  },
  {
   "cell_type": "code",
   "execution_count": 76,
   "metadata": {
    "collapsed": false
   },
   "outputs": [
    {
     "data": {
      "text/plain": [
       "[37.15223883279463, 30.18101572344688, 23.209792614099133, 16.23856950475139]"
      ]
     },
     "execution_count": 76,
     "metadata": {},
     "output_type": "execute_result"
    }
   ],
   "source": [
    "mutual_fund_mean_returns = [10, 8, 6, 4]\n",
    "mutual_fund_std_returns = [investment_mean_to_std(mean_return) for mean_return in mutual_fund_mean_returns]\n",
    "mutual_fund_std_returns"
   ]
  },
  {
   "cell_type": "markdown",
   "metadata": {},
   "source": [
    "Okay, so now we have some good numbers to go on to build some hypothetical funds to analyze...\n",
    "\n",
    "## Hypothetical Funds\n",
    "\n",
    "* Fund 1: return mean: 10%, standard deviation: 37.15%\n",
    "* Fund 2: return mean: 8%, standard deviation: 30.18%\n",
    "* Fund 3: return mean: 6%, standard deviation: 23.21%\n",
    "* Fund 4: return mean: 4%, standard deviation: 16.24%\n",
    "\n",
    "And again, we will be contributing **$5,500 per year** to these funds, and running the simulation for **30 years**."
   ]
  },
  {
   "cell_type": "code",
   "execution_count": 77,
   "metadata": {
    "collapsed": true
   },
   "outputs": [],
   "source": [
    "import numpy as np\n",
    "import random\n",
    "import matplotlib.pyplot as plt\n",
    "%matplotlib inline\n",
    "\n",
    "# Graphing helper function\n",
    "def setup_graph(title='', x_label='', y_label='', fig_size=None):\n",
    "    fig = plt.figure()\n",
    "    if fig_size != None:\n",
    "        fig.set_size_inches(fig_size[0], fig_size[1])\n",
    "    ax = fig.add_subplot(111)\n",
    "    ax.set_title(title)\n",
    "    ax.set_xlabel(x_label)\n",
    "    ax.set_ylabel(y_label)"
   ]
  },
  {
   "cell_type": "markdown",
   "metadata": {},
   "source": [
    "### Simulation functions (developed in part 1)"
   ]
  },
  {
   "cell_type": "code",
   "execution_count": 78,
   "metadata": {
    "collapsed": true
   },
   "outputs": [],
   "source": [
    "def generate_return_rates(return_mean, return_std, years):\n",
    "    return return_mean + return_std * np.random.randn(years)\n",
    "\n",
    "def calculate_fund_returns(contribution_per_year, returns_by_year, starting_principal=0):\n",
    "    \"\"\" Calculate the fund returns for the sequence of years given.\n",
    "    \n",
    "    Parameters:\n",
    "        * contributsions_per_year - float representing dollars contributed per year\n",
    "        * returns_by_year - list of percent returns per year like [.1, -.05, ...].\n",
    "    Returns the fund value by year - a list like this:\n",
    "        [1000, 1026.25, 1223.75, 1100.75, ...]\n",
    "    \"\"\"\n",
    "    principal = starting_principal\n",
    "    value_by_year = []\n",
    "    for return_rate in returns_by_year:\n",
    "        # Add the contribution first thing each year\n",
    "        principal = principal + contribution_per_year\n",
    "        \n",
    "        # Calculate growth/loss\n",
    "        principal = principal * (1 + return_rate)\n",
    "        \n",
    "        value_by_year.append(principal)\n",
    "\n",
    "    return value_by_year"
   ]
  },
  {
   "cell_type": "markdown",
   "metadata": {},
   "source": [
    "### Fund definitions"
   ]
  },
  {
   "cell_type": "code",
   "execution_count": 79,
   "metadata": {
    "collapsed": false
   },
   "outputs": [],
   "source": [
    "def make_mutual_fund(return_mean, return_std, years, yearly_addition):\n",
    "    fund_return_rates = [percent / 100 for percent in generate_return_rates(return_mean, return_std, years)]\n",
    "    fund_value_by_year = calculate_fund_returns(yearly_addition, fund_return_rates)\n",
    "    return fund_value_by_year\n",
    "\n",
    "def get_fund1_returns(): return make_mutual_fund(10, 37.15, 30, 5500)\n",
    "def get_fund2_returns(): return make_mutual_fund(8, 30.18, 30, 5500)\n",
    "def get_fund3_returns(): return make_mutual_fund(6, 23.21, 30, 5500)\n",
    "def get_fund4_returns(): return make_mutual_fund(4, 16.24, 30, 5500)"
   ]
  },
  {
   "cell_type": "markdown",
   "metadata": {},
   "source": [
    "Just to make sure everything looks good, let's graph some example returns from fund4:"
   ]
  },
  {
   "cell_type": "code",
   "execution_count": 80,
   "metadata": {
    "collapsed": false
   },
   "outputs": [
    {
     "data": {
      "text/plain": [
       "[<matplotlib.lines.Line2D at 0x10f71c358>]"
      ]
     },
     "execution_count": 80,
     "metadata": {},
     "output_type": "execute_result"
    },
    {
     "data": {
      "image/png": "[encoded data removed]",
      "text/plain": [
       "<matplotlib.figure.Figure at 0x10cdad3c8>"
      ]
     },
     "metadata": {},
     "output_type": "display_data"
    }
   ],
   "source": [
    "years = range(30)\n",
    "setup_graph(title='Fund 4 returns', x_label='year', y_label='fund value in $', fig_size=(12,6))\n",
    "plt.plot(years, get_fund4_returns())"
   ]
  },
  {
   "cell_type": "markdown",
   "metadata": {},
   "source": [
    "### Let's now calculate expected returns for each fund"
   ]
  },
  {
   "cell_type": "code",
   "execution_count": 81,
   "metadata": {
    "collapsed": true
   },
   "outputs": [],
   "source": [
    "num_trials = 100000\n",
    "fund1_end_returns_per_trial = [get_fund1_returns()[-1] for i in range(num_trials)]\n",
    "fund2_end_returns_per_trial = [get_fund2_returns()[-1] for i in range(num_trials)]\n",
    "fund3_end_returns_per_trial = [get_fund3_returns()[-1] for i in range(num_trials)]\n",
    "fund4_end_returns_per_trial = [get_fund4_returns()[-1] for i in range(num_trials)]"
   ]
  },
  {
   "cell_type": "code",
   "execution_count": 82,
   "metadata": {
    "collapsed": false
   },
   "outputs": [
    {
     "name": "stdout",
     "output_type": "stream",
     "text": [
      "Fund 1 expected return: 1001329.9899223042\n",
      "Fund 2 expected return: 676578.2954660963\n",
      "Fund 3 expected return: 459744.282021185\n",
      "Fund 4 expected return: 320612.81052237\n"
     ]
    }
   ],
   "source": [
    "print('Fund 1 expected return: {}'.format(sum(fund1_end_returns_per_trial) / num_trials))\n",
    "print('Fund 2 expected return: {}'.format(sum(fund2_end_returns_per_trial) / num_trials))\n",
    "print('Fund 3 expected return: {}'.format(sum(fund3_end_returns_per_trial) / num_trials))\n",
    "print('Fund 4 expected return: {}'.format(sum(fund4_end_returns_per_trial) / num_trials))"
   ]
  },
  {
   "cell_type": "markdown",
   "metadata": {},
   "source": [
    "## What's the probability of reaching, say, $200,000?"
   ]
  },
  {
   "cell_type": "code",
   "execution_count": 83,
   "metadata": {
    "collapsed": false
   },
   "outputs": [
    {
     "name": "stdout",
     "output_type": "stream",
     "text": [
      "Fund 1 expected return: 0.64582\n",
      "Fund 2 expected return: 0.68698\n",
      "Fund 3 expected return: 0.71016\n",
      "Fund 4 expected return: 0.70011\n"
     ]
    }
   ],
   "source": [
    "print('Fund 1 expected return: {}'.format(len([i for i in fund1_end_returns_per_trial if i >= 200000]) / num_trials))\n",
    "print('Fund 2 expected return: {}'.format(len([i for i in fund2_end_returns_per_trial if i >= 200000]) / num_trials))\n",
    "print('Fund 3 expected return: {}'.format(len([i for i in fund3_end_returns_per_trial if i >= 200000]) / num_trials))\n",
    "print('Fund 4 expected return: {}'.format(len([i for i in fund4_end_returns_per_trial if i >= 200000]) / num_trials))"
   ]
  },
  {
   "cell_type": "markdown",
   "metadata": {},
   "source": [
    "Wow, so the higher-volatility/higher-return funds have a MUCH better chance of getting this modest amount."
   ]
  },
  {
   "cell_type": "markdown",
   "metadata": {},
   "source": [
    "### What's the probability of reaching, say, $500,000?"
   ]
  },
  {
   "cell_type": "code",
   "execution_count": 84,
   "metadata": {
    "collapsed": false
   },
   "outputs": [
    {
     "name": "stdout",
     "output_type": "stream",
     "text": [
      "Fund 1 expected return: 0.39156\n",
      "Fund 2 expected return: 0.36988\n",
      "Fund 3 expected return: 0.29027\n",
      "Fund 4 expected return: 0.14279\n"
     ]
    }
   ],
   "source": [
    "print('Fund 1 expected return: {}'.format(len([i for i in fund1_end_returns_per_trial if i >= 500000]) / num_trials))\n",
    "print('Fund 2 expected return: {}'.format(len([i for i in fund2_end_returns_per_trial if i >= 500000]) / num_trials))\n",
    "print('Fund 3 expected return: {}'.format(len([i for i in fund3_end_returns_per_trial if i >= 500000]) / num_trials))\n",
    "print('Fund 4 expected return: {}'.format(len([i for i in fund4_end_returns_per_trial if i >= 500000]) / num_trials))"
   ]
  },
  {
   "cell_type": "markdown",
   "metadata": {},
   "source": [
    "Looking at these 2 scenarios, it seems like going with the higher-return/higher-volatility funds is the better bet, because, like in this case, you are only losing ~5% chance of getting to `$`200,000 with the most risky fund compared to the least-risky one, but you have a 39% chance of reaching $500,000 with the most risky, compared to a mere 14% chance with the most conservative.\n",
    "\n",
    "Keep in mind that only investing $5,500 over the course of 30 years would yield `$`165,000 with 0% interest.\n"
   ]
  },
  {
   "cell_type": "code",
   "execution_count": null,
   "metadata": {
    "collapsed": true
   },
   "outputs": [],
   "source": []
  }
 ],
 "metadata": {
  "kernelspec": {
   "display_name": "Python 3",
   "language": "python",
   "name": "python3"
  },
  "language_info": {
   "codemirror_mode": {
    "name": "ipython",
    "version": 3
   },
   "file_extension": ".py",
   "mimetype": "text/x-python",
   "name": "python",
   "nbconvert_exporter": "python",
   "pygments_lexer": "ipython3",
   "version": "3.5.1"
  }
 },
 "nbformat": 4,
 "nbformat_minor": 0
}
